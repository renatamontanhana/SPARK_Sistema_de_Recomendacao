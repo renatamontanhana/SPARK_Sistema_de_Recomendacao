{
  "nbformat": 4,
  "nbformat_minor": 0,
  "metadata": {
    "anaconda-cloud": {},
    "colab": {
      "provenance": [],
      "include_colab_link": true
    },
    "kernelspec": {
      "display_name": "Python 3",
      "language": "python",
      "name": "python3"
    },
    "language_info": {
      "codemirror_mode": {
        "name": "ipython",
        "version": 3
      },
      "file_extension": ".py",
      "mimetype": "text/x-python",
      "name": "python",
      "nbconvert_exporter": "python",
      "pygments_lexer": "ipython3",
      "version": "3.7.6"
    }
  },
  "cells": [
    {
      "cell_type": "markdown",
      "metadata": {
        "id": "view-in-github",
        "colab_type": "text"
      },
      "source": [
        "<a href=\"https://colab.research.google.com/github/renatamontanhana/SPARK_Sistema_de_Recomendacao/blob/main/SPARK_Sistema_de_Recomendacao.ipynb\" target=\"_parent\"><img src=\"https://colab.research.google.com/assets/colab-badge.svg\" alt=\"Open In Colab\"/></a>"
      ]
    },
    {
      "cell_type": "markdown",
      "metadata": {
        "id": "3A5iM0HZDW20"
      },
      "source": [
        "# <font color='purple'>Ciência dos Dados</font>\n",
        "## <font color='blue'>BigData com Spark</font>\n",
        "\n",
        "## <font color='blue'>Sistema de Recomendacao</font>"
      ]
    },
    {
      "cell_type": "markdown",
      "metadata": {
        "id": "-0TpQUL-DW3A"
      },
      "source": [
        "### *********** Atenção: ***********\n",
        "Utilize Java JDK 1.8 ou 11 e Apache Spark 2.4.2"
      ]
    },
    {
      "cell_type": "markdown",
      "metadata": {
        "id": "9z-4uBgpDW3U"
      },
      "source": [
        "****** Caso receba mensagem de erro \"name 'sc' is not defined\", interrompa o pyspark e apague o diretório metastore_db no mesmo diretório onde está este Jupyter notebook ******"
      ]
    },
    {
      "cell_type": "markdown",
      "metadata": {
        "id": "HFXDzRoJDW3a"
      },
      "source": [
        "## <font color='blue'>Spark MLLib - Sistema de Recomendação</font>"
      ]
    },
    {
      "cell_type": "markdown",
      "metadata": {
        "id": "wfUZ-TUSDW3e"
      },
      "source": [
        "<strong> Descrição </strong>\n",
        "<ul style=\"list-style-type:square\">\n",
        "  <li>Também chamado de filtros colaborativos.</li>\n",
        "  <li>Analisa dados passados para compreender comportamentos de pessoas/entidades.</li>\n",
        "  <li>A recomendação é feita por similaridade de comportamento.</li>\n",
        "  <li>Recomendação baseada em usuários ou items.</li>\n",
        "  <li>Algoritmos de Recomendação esperam receber os dados em um formato específico: [user_ID, item_ID, score].</li>\n",
        "  <li>Score, também chamado rating, indica a preferência de um usuário sobre um item. Podem ser valores booleanos, ratings ou mesmo volume de vendas.</li>\n",
        "</ul>"
      ]
    },
    {
      "cell_type": "code",
      "source": [
        "!pip install pyspark"
      ],
      "metadata": {
        "colab": {
          "base_uri": "https://localhost:8080/"
        },
        "id": "6bvkm5VcWLOd",
        "outputId": "8a663a80-57f1-4912-d913-7b08ab9b780f"
      },
      "execution_count": 2,
      "outputs": [
        {
          "output_type": "stream",
          "name": "stdout",
          "text": [
            "Collecting pyspark\n",
            "  Downloading pyspark-3.5.0.tar.gz (316.9 MB)\n",
            "\u001b[2K     \u001b[90m━━━━━━━━━━━━━━━━━━━━━━━━━━━━━━━━━━━━━━━━\u001b[0m \u001b[32m316.9/316.9 MB\u001b[0m \u001b[31m3.6 MB/s\u001b[0m eta \u001b[36m0:00:00\u001b[0m\n",
            "\u001b[?25h  Preparing metadata (setup.py) ... \u001b[?25l\u001b[?25hdone\n",
            "Requirement already satisfied: py4j==0.10.9.7 in /usr/local/lib/python3.10/dist-packages (from pyspark) (0.10.9.7)\n",
            "Building wheels for collected packages: pyspark\n",
            "  Building wheel for pyspark (setup.py) ... \u001b[?25l\u001b[?25hdone\n",
            "  Created wheel for pyspark: filename=pyspark-3.5.0-py2.py3-none-any.whl size=317425345 sha256=4c978f87a75b9188b48fc578091e4048d0b4463661ad3e68bbd012e99616c38d\n",
            "  Stored in directory: /root/.cache/pip/wheels/41/4e/10/c2cf2467f71c678cfc8a6b9ac9241e5e44a01940da8fbb17fc\n",
            "Successfully built pyspark\n",
            "Installing collected packages: pyspark\n",
            "Successfully installed pyspark-3.5.0\n"
          ]
        }
      ]
    },
    {
      "cell_type": "code",
      "metadata": {
        "id": "CVWtPkJMDW3f"
      },
      "source": [
        "# Imports de pacotes\n",
        "from pyspark.ml.recommendation import ALS"
      ],
      "execution_count": 3,
      "outputs": []
    },
    {
      "cell_type": "code",
      "source": [
        "from pyspark.sql import SparkSession\n",
        "\n",
        "# Criar uma SparkSession\n",
        "spSession = SparkSession.builder.master(\"local\").appName(\"DSA-SparkMLLib\").getOrCreate()\n"
      ],
      "metadata": {
        "id": "rF4PEvVkWoTL"
      },
      "execution_count": 4,
      "outputs": []
    },
    {
      "cell_type": "code",
      "metadata": {
        "id": "LpUBduFRDW3m"
      },
      "source": [
        "# Spark Session - usada quando se trabalha com Dataframes no Spark\n",
        "spSession = SparkSession.builder.master(\"local\").appName(\"DSA-SparkMLLib\").getOrCreate()"
      ],
      "execution_count": 5,
      "outputs": []
    },
    {
      "cell_type": "code",
      "source": [
        "from pyspark.sql import SparkSession\n",
        "\n",
        "# Obtém ou cria uma SparkSession\n",
        "spSession = SparkSession.builder.appName(\"DSA-SparkMLLib\").getOrCreate()\n",
        "\n",
        "# Obtém o SparkContext\n",
        "sc = spSession.sparkContext\n",
        "\n",
        "# Agora você pode carregar os dados\n",
        "ratingsRDD = sc.textFile(\"/content/user-item.txt\")\n",
        "ratingsRDD.collect()\n"
      ],
      "metadata": {
        "colab": {
          "base_uri": "https://localhost:8080/"
        },
        "id": "ioeXN-1EnYvj",
        "outputId": "791b06bc-a68d-4747-f39c-cd73b3c9cbb7"
      },
      "execution_count": 11,
      "outputs": [
        {
          "output_type": "execute_result",
          "data": {
            "text/plain": [
              "['1001,9001,10',\n",
              " '1001,9002,1',\n",
              " '1001,9003,9',\n",
              " '1002,9001,3',\n",
              " '1002,9002,5',\n",
              " '1002,9003,1',\n",
              " '1002,9004,10',\n",
              " '1003,9001,2',\n",
              " '1003,9002,6',\n",
              " '1003,9003,2',\n",
              " '1003,9004,9',\n",
              " '1003,9005,10',\n",
              " '1003,9006,8',\n",
              " '1003,9007,9',\n",
              " '1004,9001,9',\n",
              " '1004,9002,2',\n",
              " '1004,9003,8',\n",
              " '1004,9004,3',\n",
              " '1004,9010,10',\n",
              " '1004,9011,9',\n",
              " '1004,9012,8',\n",
              " '1005,9001,8',\n",
              " '1005,9002,3',\n",
              " '1005,9003,7',\n",
              " '1005,9004,1',\n",
              " '1005,9010,9',\n",
              " '1005,9011,10',\n",
              " '1005,9012,9',\n",
              " '1005,9013,8',\n",
              " '1005,9014,1',\n",
              " '1005,9015,1',\n",
              " '1006,9001,7',\n",
              " '1006,9002,4',\n",
              " '1006,9003,8',\n",
              " '1006,9004,1',\n",
              " '1006,9010,7',\n",
              " '1006,9011,6',\n",
              " '1006,9012,9']"
            ]
          },
          "metadata": {},
          "execution_count": 11
        }
      ]
    },
    {
      "cell_type": "code",
      "metadata": {
        "id": "OD19CWSnDW31",
        "colab": {
          "base_uri": "https://localhost:8080/"
        },
        "outputId": "205c7190-3c85-47cf-faa8-def35485e377"
      },
      "source": [
        "# Carrega os dados no formato ALS (user, item, rating)\n",
        "ratingsRDD = sc.textFile(\"/content/user-item.txt\")\n",
        "ratingsRDD.collect()"
      ],
      "execution_count": 12,
      "outputs": [
        {
          "output_type": "execute_result",
          "data": {
            "text/plain": [
              "['1001,9001,10',\n",
              " '1001,9002,1',\n",
              " '1001,9003,9',\n",
              " '1002,9001,3',\n",
              " '1002,9002,5',\n",
              " '1002,9003,1',\n",
              " '1002,9004,10',\n",
              " '1003,9001,2',\n",
              " '1003,9002,6',\n",
              " '1003,9003,2',\n",
              " '1003,9004,9',\n",
              " '1003,9005,10',\n",
              " '1003,9006,8',\n",
              " '1003,9007,9',\n",
              " '1004,9001,9',\n",
              " '1004,9002,2',\n",
              " '1004,9003,8',\n",
              " '1004,9004,3',\n",
              " '1004,9010,10',\n",
              " '1004,9011,9',\n",
              " '1004,9012,8',\n",
              " '1005,9001,8',\n",
              " '1005,9002,3',\n",
              " '1005,9003,7',\n",
              " '1005,9004,1',\n",
              " '1005,9010,9',\n",
              " '1005,9011,10',\n",
              " '1005,9012,9',\n",
              " '1005,9013,8',\n",
              " '1005,9014,1',\n",
              " '1005,9015,1',\n",
              " '1006,9001,7',\n",
              " '1006,9002,4',\n",
              " '1006,9003,8',\n",
              " '1006,9004,1',\n",
              " '1006,9010,7',\n",
              " '1006,9011,6',\n",
              " '1006,9012,9']"
            ]
          },
          "metadata": {},
          "execution_count": 12
        }
      ]
    },
    {
      "cell_type": "code",
      "metadata": {
        "id": "DN7PwirkDW4B"
      },
      "source": [
        "# Convertendo as strings\n",
        "ratingsRDD2 = ratingsRDD.map(lambda l: l.split(',')).map(lambda l:(int(l[0]), int(l[1]), float(l[2])))"
      ],
      "execution_count": 13,
      "outputs": []
    },
    {
      "cell_type": "code",
      "metadata": {
        "id": "l95GVCuBmFYu"
      },
      "source": [
        "# Criando um Dataframe\n",
        "ratingsDF = spSession.createDataFrame(ratingsRDD2, [\"user\", \"item\", \"rating\"])"
      ],
      "execution_count": 14,
      "outputs": []
    },
    {
      "cell_type": "code",
      "metadata": {
        "id": "makTey_HQH36",
        "colab": {
          "base_uri": "https://localhost:8080/"
        },
        "outputId": "6683e975-cadc-48db-df64-1e0cbb3fbb5d"
      },
      "source": [
        "ratingsDF"
      ],
      "execution_count": 15,
      "outputs": [
        {
          "output_type": "execute_result",
          "data": {
            "text/plain": [
              "DataFrame[user: bigint, item: bigint, rating: double]"
            ]
          },
          "metadata": {},
          "execution_count": 15
        }
      ]
    },
    {
      "cell_type": "code",
      "metadata": {
        "id": "pM3wbHwsDW4p"
      },
      "source": [
        "# Construindo o modelo\n",
        "# ALS = Alternating Least Squares --> Algoritmo para sistema de recomendação, que otimiza a loss function\n",
        "# e funciona muito bem em ambientes paralelizados\n",
        "als = ALS(rank = 10, maxIter = 5)\n",
        "modelo = als.fit(ratingsDF)"
      ],
      "execution_count": 16,
      "outputs": []
    },
    {
      "cell_type": "code",
      "metadata": {
        "id": "ARuHfZ5ODW5G",
        "colab": {
          "base_uri": "https://localhost:8080/"
        },
        "outputId": "a87a1b70-ff5b-492a-ee44-5148bac60d3b"
      },
      "source": [
        "# Visualizando o Affinity Score\n",
        "modelo.userFactors.orderBy(\"id\").collect()"
      ],
      "execution_count": 17,
      "outputs": [
        {
          "output_type": "execute_result",
          "data": {
            "text/plain": [
              "[Row(id=1001, features=[-0.6930740475654602, -0.3868650197982788, 0.41757887601852417, 0.31486400961875916, 0.6179812550544739, 0.6426745653152466, -0.4178941249847412, 0.9820318818092346, 0.09449205547571182, 0.5916354656219482]),\n",
              " Row(id=1002, features=[0.5523760914802551, 0.016237694770097733, 0.29231345653533936, -1.1382346153259277, -0.3404906094074249, 0.6859951019287109, -0.08520103991031647, -0.1842235028743744, 1.1725407838821411, 0.15252146124839783]),\n",
              " Row(id=1003, features=[0.7773934006690979, 0.11161402612924576, 0.25314968824386597, -0.9876330494880676, 0.11273720115423203, 0.31789934635162354, -0.07186150550842285, 0.018017131835222244, 0.9068472981452942, -0.4528549909591675]),\n",
              " Row(id=1004, features=[-0.6240087151527405, -0.3842594027519226, 0.48865941166877747, -0.08379887044429779, 0.48245587944984436, 0.8785684704780579, -0.4429779648780823, 0.5047745108604431, 0.49951472878456116, 0.34139978885650635]),\n",
              " Row(id=1005, features=[0.18583036959171295, -0.09427300095558167, 0.3137316107749939, -0.05253531038761139, 0.46288809180259705, 0.35120636224746704, -0.08376110345125198, 1.157188892364502, 0.08080752938985825, 0.603455662727356]),\n",
              " Row(id=1006, features=[0.12072581797838211, -0.09264274686574936, 0.2974880337715149, 0.06848959624767303, 1.1589469909667969, -0.07638762146234512, -0.39782318472862244, 0.9637166261672974, 0.09787817299365997, -0.8350738286972046])]"
            ]
          },
          "metadata": {},
          "execution_count": 17
        }
      ]
    },
    {
      "cell_type": "code",
      "metadata": {
        "id": "vgy_oDakDW5Y"
      },
      "source": [
        "# Criando um dataset de teste com usuários e items para rating\n",
        "testeDF = spSession.createDataFrame([(1001,9004),(1001,9005),(1001,9010)], [\"user\", \"item\"])"
      ],
      "execution_count": 18,
      "outputs": []
    },
    {
      "cell_type": "code",
      "metadata": {
        "id": "Wl-Z6MVSDW5k",
        "colab": {
          "base_uri": "https://localhost:8080/"
        },
        "outputId": "d2a09171-d645-47e3-c4bf-1972501cded7"
      },
      "source": [
        "# Previsões\n",
        "# Quanto maior o Affinity Score, maior a probabilidade do usuário aceitar uma recomendação\n",
        "previsoes = (modelo.transform(testeDF).collect())\n",
        "previsoes"
      ],
      "execution_count": 19,
      "outputs": [
        {
          "output_type": "execute_result",
          "data": {
            "text/plain": [
              "[Row(user=1001, item=9004, prediction=-0.617450475692749),\n",
              " Row(user=1001, item=9005, prediction=-2.532466411590576),\n",
              " Row(user=1001, item=9010, prediction=11.25540542602539)]"
            ]
          },
          "metadata": {},
          "execution_count": 19
        }
      ]
    },
    {
      "cell_type": "markdown",
      "metadata": {
        "id": "TPuJigXuDW6n"
      },
      "source": [
        "# Fim"
      ]
    },
    {
      "cell_type": "markdown",
      "metadata": {
        "id": "CFrl1zK6DW6o"
      },
      "source": [
        "### Tamojunto - Ciencia dos Dados <a href=\"http://facebook.com/cienciadosdadosbr\">facebook.com/cienciadosdadosbr</a>"
      ]
    },
    {
      "cell_type": "markdown",
      "metadata": {
        "id": "OTcvjJmSEavR"
      },
      "source": [
        "### #**Telegram** - Scripts e Datasets - Comunidade Telegram <a href=\"https://t.me/cienciadosdados\">https://t.me/cienciadosdadosraiz</a>"
      ]
    },
    {
      "cell_type": "markdown",
      "metadata": {
        "id": "EHoF5U6PEoJO"
      },
      "source": [
        "### #YouTube - Mais Aulas como essa no YouTube <a href=\"https://www.youtube.com/watch?v=IaIc5oHd3II&t=1569s\">https://www.youtube.com/watch?v=IaIc5oHd3II&t=1569s</a>"
      ]
    }
  ]
}